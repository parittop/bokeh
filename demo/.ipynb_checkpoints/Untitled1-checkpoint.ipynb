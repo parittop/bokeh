{
 "cells": [
  {
   "cell_type": "code",
   "execution_count": null,
   "metadata": {
    "collapsed": true
   },
   "outputs": [],
   "source": [
    "#Ploting\n",
    "#Importing Bokeh\n",
    "from bokeh.plotting import figure\n",
    "from bokeh.io import output_file, save\n",
    "import pandas\n",
    "\n",
    "#prepare somedata\n",
    "df = pandas.read_csv(\"data.csv\")\n",
    "x=df[\"x\"]\n",
    "y=df[\"y\"]\n",
    "\n",
    "#prepare output file\n",
    "output_file(\"line.html\")\n",
    "\n",
    "#create figure object\n",
    "f=figure()\n",
    "f.line(x,y)\n",
    "save(f)\n"
   ]
  },
  {
   "cell_type": "code",
   "execution_count": 1,
   "metadata": {
    "collapsed": true
   },
   "outputs": [],
   "source": [
    "from bokeh.models.glyphs import Circle\n",
    "from bokeh.models import Plot, ColumnDataSource, Range1d, Grid\n",
    "from bokeh.io import output_file, show\n",
    "\n",
    "output_file(\"Line_from_models.html\")\n",
    "x=[1,2,3,4,5]\n",
    "y=[6,7,8,9,10]\n",
    "data=ColumnDataSource(dict(x=x,y=y))\n",
    "\n",
    "p=Plot(x_range=Range1d(start=0,end=15),y_range=Range1d(start=0, end=15))\n",
    "circle=Circle(x=\"x\",y=\"y\")\n",
    "p.add_glyph(data,circle)\n",
    "show(p)"
   ]
  },
  {
   "cell_type": "code",
   "execution_count": null,
   "metadata": {
    "collapsed": true
   },
   "outputs": [],
   "source": []
  }
 ],
 "metadata": {
  "kernelspec": {
   "display_name": "Python [Root]",
   "language": "python",
   "name": "Python [Root]"
  },
  "language_info": {
   "codemirror_mode": {
    "name": "ipython",
    "version": 3
   },
   "file_extension": ".py",
   "mimetype": "text/x-python",
   "name": "python",
   "nbconvert_exporter": "python",
   "pygments_lexer": "ipython3",
   "version": "3.5.2"
  }
 },
 "nbformat": 4,
 "nbformat_minor": 0
}
